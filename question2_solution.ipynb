{
  "nbformat": 4,
  "nbformat_minor": 0,
  "metadata": {
    "colab": {
      "provenance": [],
      "private_outputs": true,
      "gpuType": "T4",
      "authorship_tag": "ABX9TyPiqr5XnJjgVegUW9oR8OPN",
      "include_colab_link": true
    },
    "kernelspec": {
      "name": "python3",
      "display_name": "Python 3"
    },
    "language_info": {
      "name": "python"
    },
    "accelerator": "GPU"
  },
  "cells": [
    {
      "cell_type": "markdown",
      "metadata": {
        "id": "view-in-github",
        "colab_type": "text"
      },
      "source": [
        "<a href=\"https://colab.research.google.com/github/sajidjavid222/CiSTUP_IISc_python_test/blob/main/question2_solution.ipynb\" target=\"_parent\"><img src=\"https://colab.research.google.com/assets/colab-badge.svg\" alt=\"Open In Colab\"/></a>"
      ]
    },
    {
      "cell_type": "code",
      "execution_count": null,
      "metadata": {
        "id": "_reEJC7HueLh"
      },
      "outputs": [],
      "source": [
        "import numpy as np\n",
        "import matplotlib.pyplot as plt\n",
        "import pandas as pd\n",
        "import time\n",
        "dataset = pd.read_csv(\"combined_trajectories.csv\")\n",
        "!pip install geopandas\n"
      ]
    },
    {
      "cell_type": "code",
      "execution_count": null,
      "metadata": {
        "id": "-IjkxYG15hzF"
      },
      "outputs": [],
      "source": [
        "import pandas as pd\n",
        "import numpy as np\n",
        "from multiprocessing import Pool\n",
        "\n",
        "\n",
        "def calculate_distance(df, individual_id):\n",
        "    sub_df = df[df['individual_id'] == individual_id]\n",
        "    sub_df = sub_df.sort_values(by=['trajectory_id', 'date', 'time'])\n",
        "    sub_df['prev_lat'] = sub_df['latitude'].shift(1)\n",
        "    sub_df['prev_long'] = sub_df['longitude'].shift(1)\n",
        "    sub_df['distance'] = np.sqrt((sub_df['latitude'] - sub_df['prev_lat']) ** 2 +\n",
        "                                 (sub_df['longitude'] - sub_df['prev_long']) ** 2)\n",
        "    return sub_df['distance'].sum()\n",
        "\n",
        "\n",
        "def total_distance_by_individual(df):\n",
        "    individual_ids = df['individual_id'].unique()\n",
        "    pool = Pool(processes=len(individual_ids))\n",
        "    results = [pool.apply_async(calculate_distance, args=(df, i)) for i in individual_ids]\n",
        "    output = [(individual_ids[i], result.get()) for i, result in enumerate(results)]\n",
        "    pool.close()\n",
        "    pool.join()\n",
        "    return pd.DataFrame(output, columns=['individual_id', 'total_distance']).sort_values('individual_id').reset_index(drop=True)\n",
        "\n",
        "df = total_distance_by_individual(dataset)\n",
        "print(df)\n",
        "\n",
        "\n"
      ]
    },
    {
      "cell_type": "code",
      "source": [
        "!pip install geopandas"
      ],
      "metadata": {
        "id": "Xr-bna4XwM2j"
      },
      "execution_count": null,
      "outputs": []
    },
    {
      "cell_type": "code",
      "source": [
        "import pandas as pd\n",
        "import geopandas as gpd\n",
        "import matplotlib.pyplot as plt\n",
        "from shapely.geometry import Point, Polygon\n",
        "import seaborn as sns\n",
        "\n",
        "def extract_and_visualize_hotspots(dataset_path):\n",
        "    # Load the GPS dataset\n",
        "    gps_df = pd.read_csv(dataset_path, parse_dates=[['date', 'time']])\n",
        "\n",
        "    # Remove rows with missing date-time values\n",
        "    gps_df = gps_df.dropna(subset=['date_time'])\n",
        "\n",
        "    # Define the boundary of Beijing City as a polygon\n",
        "    beijing_polygon = Polygon([(116.011933,39.882817),(116.515274,39.872444),(116.56257,40.146702),(116.267143,40.254353),(116.011933,39.882817)])\n",
        "\n",
        "    # Convert the GPS dataset to a GeoDataFrame\n",
        "    gps_points = [Point(xy) for xy in zip(gps_df['longitude'], gps_df['latitude'])]\n",
        "    gps_gdf = gpd.GeoDataFrame(gps_df, geometry=gps_points, crs=\"EPSG:4326\")\n",
        "\n",
        "    # Filter the GPS data to only contain trips within Beijing City\n",
        "    gps_gdf = gps_gdf[gps_gdf.within(beijing_polygon)]\n",
        "\n",
        "    # Visualize the spatial distribution of GPS points\n",
        "    fig, ax = plt.subplots(figsize=(10, 10))\n",
        "    gps_gdf.plot(ax=ax, markersize=1, color='red', alpha=0.5)\n",
        "    beijing_polygon_plot = gpd.GeoDataFrame({'geometry': beijing_polygon}, index=[0], crs=\"EPSG:4326\")\n",
        "    beijing_polygon_plot.plot(ax=ax, facecolor='none', edgecolor='black')\n",
        "    ax.set_title('Spatial Distribution of GPS Points in Beijing City')\n",
        "    plt.show()\n",
        "\n",
        "    # Extract the temporal hotspots of GPS points\n",
        "    gps_gdf['datetime'] = pd.to_datetime(gps_gdf['date_time'])\n",
        "    gps_gdf['dayofweek'] = gps_gdf['datetime'].dt.dayofweek\n",
        "    gps_gdf['hour'] = gps_gdf['datetime'].dt.hour\n",
        "    hotspot_counts = gps_gdf.groupby(['dayofweek', 'hour'])['latitude'].count().reset_index(name='count')\n",
        "\n",
        "    # Visualize the temporal hotspots of GPS points\n",
        "    fig, ax = plt.subplots(figsize=(10, 10))\n",
        "    sns.heatmap(hotspot_counts.pivot('dayofweek', 'hour', 'count'), cmap='YlOrRd', ax=ax)\n",
        "    ax.set_xlabel('Hour of Day')\n",
        "    ax.set_ylabel('Day of Week')\n",
        "    ax.set_title('Number of GPS Points by Day of Week and Hour in Beijing City')\n",
        "    plt.show()\n",
        "\n",
        "\n",
        "extract_and_visualize_hotspots(\"combined_trajectories.csv\")"
      ],
      "metadata": {
        "id": "8AecQe4N5dbF"
      },
      "execution_count": null,
      "outputs": []
    },
    {
      "cell_type": "code",
      "source": [
        "!pip install folium --upgrade\n"
      ],
      "metadata": {
        "id": "nKjl8d6qR6Y2"
      },
      "execution_count": null,
      "outputs": []
    },
    {
      "cell_type": "code",
      "source": [
        "import pandas as pd\n",
        "import folium\n",
        "from folium import plugins\n",
        "\n",
        "# Load the dataset\n",
        "df = pd.read_csv('combined_trajectories.csv')\n",
        "\n",
        "# Filter to only contain trips within Beijing City\n",
        "beijing_polygon = [(39.4, 115.4), (39.4, 117.5), (41.1, 117.5), (41.1, 115.4)]\n",
        "df = df[(df['latitude'] >= 39.4) & (df['latitude'] <= 41.1) &\n",
        "        (df['longitude'] >= 115.4) & (df['longitude'] <= 117.5)]\n",
        "# Group the data by latitude and longitude\n",
        "heatmap_data = df.groupby(['latitude', 'longitude']).size().reset_index(name='count')\n",
        "# Create a heatmap using folium\n",
        "heatmap_map = folium.Map(location=[39.9, 116.4], zoom_start=11)\n",
        "\n",
        "# Add the heatmap layer to the map\n",
        "heatmap_map.add_child(folium.plugins.HeatMap(data=heatmap_data[['latitude', 'longitude', 'count']].values,\n",
        "                                             radius=8, max_val=max(heatmap_data['count'])))\n",
        "\n",
        "# Display the map\n",
        "heatmap_map\n"
      ],
      "metadata": {
        "id": "ssy2eUoTQ8mr"
      },
      "execution_count": null,
      "outputs": []
    },
    {
      "cell_type": "code",
      "source": [
        "import pandas as pd\n",
        "import matplotlib.pyplot as plt\n",
        "from scipy.stats import gaussian_kde\n",
        "\n",
        "# Load the GPS data\n",
        "gps_data = pd.read_csv('combined_trajectories.csv')\n",
        "\n",
        "# Drop any rows with missing or invalid values in the latitude and longitude columns\n",
        "gps_data.dropna(subset=['latitude', 'longitude'], inplace=True)\n",
        "\n",
        "# Compute the density of GPS points\n",
        "density = gaussian_kde(gps_data[['latitude', 'longitude']].T)\n",
        "\n",
        "# Compute the color scale based on the density of GPS points\n",
        "color_scale = density(gps_data[['latitude', 'longitude']].T)\n",
        "\n",
        "# Create a scatterplot with a density-based color scale\n",
        "plt.scatter(gps_data['longitude'], gps_data['latitude'], c=color_scale, s=5)\n",
        "\n",
        "# Add a colorbar to the plot\n",
        "cbar = plt.colorbar()\n",
        "cbar.set_label('Density')\n",
        "\n",
        "# Set the x and y axis labels\n",
        "plt.xlabel('Longitude')\n",
        "plt.ylabel('Latitude')\n",
        "\n",
        "# Set the title of the plot\n",
        "plt.title('GPS Data Density')\n",
        "\n",
        "# Show the plot\n",
        "plt.show()\n"
      ],
      "metadata": {
        "id": "XUS4KqmjTsq3"
      },
      "execution_count": null,
      "outputs": []
    },
    {
      "cell_type": "code",
      "source": [
        "import seaborn as sns\n",
        "\n",
        "\n",
        "# Load the GPS data\n",
        "gps_data = pd.read_csv('combined_trajectories.csv')\n",
        "\n",
        "# Generate a contour plot\n",
        "sns.kdeplot(data=gps_data, x=\"longitude\", y=\"latitude\", fill=True, thresh=0, levels=10, cmap=\"rocket\")\n"
      ],
      "metadata": {
        "id": "ZRLLKuXFZvPn"
      },
      "execution_count": null,
      "outputs": []
    },
    {
      "cell_type": "code",
      "source": [
        "!pip install geopandas"
      ],
      "metadata": {
        "id": "l3rzr9eLaoEG"
      },
      "execution_count": null,
      "outputs": []
    },
    {
      "cell_type": "code",
      "source": [
        "import geopandas as gpd\n",
        "import pandas as pd\n",
        "import matplotlib.pyplot as plt\n",
        "from scipy.spatial import Voronoi, voronoi_plot_2d\n",
        "\n",
        "# Load the GPS data\n",
        "gps_data = pd.read_csv('combined_trajectories.csv')\n",
        "\n",
        "# Remove rows with NaN values in longitude or latitude\n",
        "gps_data = gps_data.dropna(subset=['longitude', 'latitude'])\n",
        "\n",
        "# Create a GeoDataFrame from the GPS data\n",
        "geometry = gpd.points_from_xy(gps_data.longitude, gps_data.latitude)\n",
        "gps_gdf = gpd.GeoDataFrame(gps_data, geometry=geometry)\n",
        "\n",
        "# Compute the Voronoi diagram\n",
        "vor = Voronoi(gps_data[['longitude', 'latitude']].values)\n",
        "\n",
        "# Plot the Voronoi diagram and the GPS points on a map\n",
        "fig, ax = plt.subplots(figsize=(10, 10))\n",
        "gps_gdf.plot(ax=ax, color='blue')\n",
        "voronoi_plot_2d(vor, ax=ax, show_vertices=False, line_colors='orange')\n",
        "ax.set_title('Voronoi Map of GPS Points')\n",
        "plt.show()\n"
      ],
      "metadata": {
        "id": "tq7TH4ZJahBf"
      },
      "execution_count": null,
      "outputs": []
    },
    {
      "cell_type": "code",
      "source": [],
      "metadata": {
        "id": "jfRyUxS5huzS"
      },
      "execution_count": null,
      "outputs": []
    },
    {
      "cell_type": "code",
      "execution_count": null,
      "metadata": {
        "id": "iXyiZUdNHm5B"
      },
      "outputs": [],
      "source": [
        "import pandas as pd\n",
        "import seaborn as sns\n",
        "import matplotlib.pyplot as plt\n",
        "\n",
        "# Load the GPS data into a Pandas dataframe\n",
        "gps_data = pd.read_csv('combined_trajectories.csv')\n",
        "\n",
        "import numpy as np\n",
        "\n",
        "# Define the latitude and longitude coordinates of Beijing city\n",
        "beijing_lat = (39.50, 41.06)\n",
        "beijing_lon = (115.42, 117.51)\n",
        "\n",
        "# Filter the GPS data to only contain trips within Beijing city\n",
        "beijing_data = gps_data[np.logical_and(gps_data['latitude'] >= beijing_lat[0], gps_data['latitude'] <= beijing_lat[1])\n",
        "                        & np.logical_and(gps_data['longitude'] >= beijing_lon[0], gps_data['longitude'] <= beijing_lon[1])]\n",
        "\n",
        "# Create a heatmap to show the density or crowding of the GPS data\n",
        "sns.kdeplot(x=beijing_data['longitude'], y=beijing_data['latitude'], cmap='YlOrRd', fill=True, thresh=0.05, alpha=0.5)\n",
        "\n",
        "\n",
        "# Set the axis labels and title of the heatmap\n",
        "plt.xlabel('Longitude')\n",
        "plt.ylabel('Latitude')\n",
        "plt.title('Spatial Hotspots of Beijing City')\n",
        "\n",
        "# Display the heatmap\n",
        "plt.show()\n",
        "\n",
        "# Analyze the temporal distribution of the GPS data to identify the time periods when the most data points have been generated\n",
        "beijing_data['datetime'] = pd.to_datetime(beijing_data['date'] + ' ' + beijing_data['time'])\n",
        "beijing_data['hour'] = beijing_data['datetime'].dt.hour\n",
        "\n",
        "# Create a bar chart to show the hourly distribution of the GPS data\n",
        "sns.countplot(x='hour', data=beijing_data)\n",
        "\n",
        "# Set the axis labels and title of the bar chart\n",
        "plt.xlabel('Hour of Day')\n",
        "plt.ylabel('Number of GPS Data Points')\n",
        "plt.title('Temporal Hotspots of Beijing City')\n",
        "\n",
        "# Display the bar chart\n",
        "plt.show()\n",
        "\n"
      ]
    },
    {
      "cell_type": "code",
      "source": [
        "import seaborn as sns\n",
        "import matplotlib.pyplot as plt\n",
        "\n",
        "def create_heatmap(df):\n",
        "    # Filter out any NaN values\n",
        "    df = df.dropna(subset=['latitude', 'longitude'])\n",
        "\n",
        "    # Create a heatmap using seaborn\n",
        "    sns.kdeplot(data=df[['latitude', 'longitude']], fill=True, shade_lowest=False)\n",
        "\n",
        "\n",
        "    # Set the axis labels and title\n",
        "    plt.xlabel('Latitude')\n",
        "    plt.ylabel('Longitude')\n",
        "    plt.title('Location Density Heatmap')\n",
        "\n",
        "    # Display the plot\n",
        "    plt.show()\n",
        "\n",
        "create_heatmap(dataset)\n"
      ],
      "metadata": {
        "id": "vkX4kcdGh600"
      },
      "execution_count": null,
      "outputs": []
    },
    {
      "cell_type": "code",
      "source": [
        "import seaborn as sns\n",
        "import matplotlib.pyplot as plt\n",
        "\n",
        "def create_scatterplot(df):\n",
        "    # Create a kernel density estimate plot of the latitude and longitude using seaborn\n",
        "    sns.kdeplot(data=df[['latitude', 'longitude']], fill=True)\n",
        "\n",
        "    # Create a scatter plot of the latitude and longitude using matplotlib\n",
        "    plt.scatter(df['latitude'], df['longitude'], s=2)\n",
        "\n",
        "    # Set the axis labels and title\n",
        "    plt.xlabel('Latitude')\n",
        "    plt.ylabel('Longitude')\n",
        "    plt.title('Spatial Distribution of Points')\n",
        "\n",
        "    # Show the plot\n",
        "    plt.show()\n",
        "create_scatterplot(dataset)\n"
      ],
      "metadata": {
        "id": "-ZA-QgPcxVFl"
      },
      "execution_count": null,
      "outputs": []
    },
    {
      "cell_type": "code",
      "source": [
        "import seaborn as sns\n",
        "import matplotlib.pyplot as plt\n",
        "\n",
        "def create_scatterplot(df):\n",
        "    # Create a kernel density estimate plot of the latitude and longitude using seaborn\n",
        "    sns.kdeplot(data=df[['latitude', 'longitude']], shade=True)\n",
        "\n",
        "    # Create a scatter plot of the latitude and longitude using matplotlib\n",
        "    plt.scatter(df['latitude'], df['longitude'], s=2, cmap='coolwarm')\n",
        "\n",
        "    # Set the axis labels and title\n",
        "    plt.xlabel('Latitude')\n",
        "    plt.ylabel('Longitude')\n",
        "    plt.title('Spatial Distribution of Points')\n",
        "\n",
        "    # Show the plot\n",
        "    plt.show()\n",
        "create_scatterplot(dataset)\n"
      ],
      "metadata": {
        "id": "-PWd8EWKiQ_2"
      },
      "execution_count": null,
      "outputs": []
    },
    {
      "cell_type": "code",
      "source": [
        "!pip install basemap"
      ],
      "metadata": {
        "id": "NYPKey3JifVB"
      },
      "execution_count": null,
      "outputs": []
    },
    {
      "cell_type": "code",
      "source": [
        "import pandas as pd\n",
        "import matplotlib.pyplot as plt\n",
        "\n",
        "# Load the GPS dataset\n",
        "gps_data = pd.read_csv('combined_trajectories.csv')\n",
        "\n",
        "# Group the data by individual_id and count the number of GPS points per individual\n",
        "count_data = gps_data.groupby('individual_id').count()['latitude']\n",
        "\n",
        "# Plot the bar chart\n",
        "plt.bar(count_data.index, count_data.values)\n",
        "plt.xlabel('Individual ID')\n",
        "plt.ylabel('Number of GPS Points')\n",
        "plt.title('Density of GPS Points per Individual')\n",
        "plt.show()\n"
      ],
      "metadata": {
        "id": "UkbEMnTVpm2y"
      },
      "execution_count": null,
      "outputs": []
    },
    {
      "cell_type": "code",
      "source": [
        "import pandas as pd\n",
        "import matplotlib.pyplot as plt\n",
        "\n",
        "# Load the GPS dataset\n",
        "gps_data = pd.read_csv('combined_trajectories.csv')\n",
        "\n",
        "# Plot a scatter plot of latitude and longitude\n",
        "plt.scatter(gps_data['longitude'], gps_data['latitude'], s=1)\n",
        "plt.xlabel('Longitude')\n",
        "plt.ylabel('Latitude')\n",
        "plt.title('Scatter Plot of GPS Points')\n",
        "plt.show()\n"
      ],
      "metadata": {
        "id": "UwQM1BoQwX_C"
      },
      "execution_count": null,
      "outputs": []
    },
    {
      "cell_type": "code",
      "source": [
        "import pandas as pd\n",
        "import matplotlib.pyplot as plt\n",
        "\n",
        "# Load the GPS dataset\n",
        "gps_data = pd.read_csv('combined_trajectories.csv')\n",
        "\n",
        "# Group the data by individual and count the number of GPS points per individual\n",
        "count_data = gps_data.groupby('individual_id').count()['latitude']\n",
        "\n",
        "# Plot a bar chart of the number of GPS points per individual\n",
        "count_data.plot(kind='bar')\n",
        "plt.xlabel('Individual ID')\n",
        "plt.ylabel('Number of GPS Points')\n",
        "plt.title('Bar Chart of GPS Points per Individual')\n",
        "plt.show()\n"
      ],
      "metadata": {
        "id": "XNXTOH3LvvZ_"
      },
      "execution_count": null,
      "outputs": []
    }
  ]
}